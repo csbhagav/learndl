{
 "cells": [
  {
   "cell_type": "code",
   "execution_count": 60,
   "metadata": {
    "collapsed": false
   },
   "outputs": [],
   "source": [
    "import numpy as np\n",
    "import math\n"
   ]
  },
  {
   "cell_type": "code",
   "execution_count": 65,
   "metadata": {
    "collapsed": false
   },
   "outputs": [],
   "source": [
    "def perceptron(W, X, THRESHOLD):\n",
    "    val = np.dot(W, X)\n",
    "    print(val)\n",
    "    if val > THRESHOLD:\n",
    "        return 1\n",
    "    else:\n",
    "        return 0\n",
    "    \n",
    "def sigmoid(t):\n",
    "    return 1 / (1 + math.exp(-t))\n",
    "\n",
    "def unit(X, W, bias):\n",
    "    return sigmoid(np.dot(W, X) + bias)"
   ]
  },
  {
   "cell_type": "code",
   "execution_count": 69,
   "metadata": {
    "collapsed": false
   },
   "outputs": [
    {
     "name": "stdout",
     "output_type": "stream",
     "text": [
      "[ 0.15694481  0.52908437]\n",
      "[1 0]\n",
      "0.156944810723\n",
      "0\n",
      "0.7607771278669806\n"
     ]
    },
    {
     "data": {
      "text/plain": [
       "0.6125396134409151"
      ]
     },
     "execution_count": 69,
     "metadata": {},
     "output_type": "execute_result"
    }
   ],
   "source": [
    "THRESHOLD = 0.5\n",
    "\n",
    "LENGTH = 2\n",
    "\n",
    "\n",
    "weights = np.random.rand(LENGTH)\n",
    "X = np.random.choice([0, 1], size=(LENGTH,), p=[1./2, 1./2])\n",
    "\n",
    "print(weights)\n",
    "\n",
    "print(X)\n",
    "print(perceptron(weights, X, THRESHOLD))\n",
    "print(unit(weights, X, 1))\n",
    "sigmoid(0.458)"
   ]
  },
  {
   "cell_type": "code",
   "execution_count": null,
   "metadata": {
    "collapsed": true
   },
   "outputs": [],
   "source": []
  }
 ],
 "metadata": {
  "anaconda-cloud": {},
  "kernelspec": {
   "display_name": "Python [Root]",
   "language": "python",
   "name": "Python [Root]"
  },
  "language_info": {
   "codemirror_mode": {
    "name": "ipython",
    "version": 3
   },
   "file_extension": ".py",
   "mimetype": "text/x-python",
   "name": "python",
   "nbconvert_exporter": "python",
   "pygments_lexer": "ipython3",
   "version": "3.5.2"
  }
 },
 "nbformat": 4,
 "nbformat_minor": 0
}
